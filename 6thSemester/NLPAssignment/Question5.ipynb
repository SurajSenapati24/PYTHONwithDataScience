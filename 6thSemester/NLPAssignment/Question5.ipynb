{
 "cells": [
  {
   "cell_type": "code",
   "execution_count": 1,
   "id": "59b8628a-a7e3-4287-a1cc-31cd0123616d",
   "metadata": {},
   "outputs": [
    {
     "name": "stdout",
     "output_type": "stream",
     "text": [
      "Words ['Natural', 'Language', 'Processing', 'enables', 'machines', 'to', 'understand', 'and', 'process', 'human', 'languages.It', 'is', 'a', 'fascinating', 'field', 'with', 'numerous', 'applications', 'such', 'as', 'chatbots', 'and', 'language', 'translation']\n",
      "Sentences:  [Sentence(\"Natural Language Processing enables machines to understand and process human languages.It is a fascinating field with numerous applications, such as chatbots and language translation.\")]\n"
     ]
    }
   ],
   "source": [
    "import nltk\n",
    "import textblob\n",
    "from textblob import TextBlob\n",
    "from nltk.corpus import stopwords\n",
    "blob=TextBlob(\"Natural Language Processing enables machines to understand and process human languages.It is a fascinating field with numerous applications, such as chatbots and language translation.\")\n",
    "word_tokens=blob.words\n",
    "sentence_tokens=blob.sentences\n",
    "print(\"Words\", word_tokens)\n",
    "print(\"Sentences: \",sentence_tokens)"
   ]
  },
  {
   "cell_type": "code",
   "execution_count": 3,
   "id": "52566838-4a33-480a-a1fd-a4010b0e84d3",
   "metadata": {},
   "outputs": [
    {
     "name": "stdout",
     "output_type": "stream",
     "text": [
      "['natur', 'languag', 'process', 'enabl', 'machin', 'to', 'understand', 'and', 'process', 'human', 'languages.it', 'is', 'a', 'fascin', 'field', 'with', 'numer', 'applic', 'such', 'as', 'chatbot', 'and', 'languag', 'translat']\n",
      "\n",
      "['Natural', 'Language', 'Processing', 'enables', 'machine', 'to', 'understand', 'and', 'process', 'human', 'languages.It', 'is', 'a', 'fascinating', 'field', 'with', 'numerous', 'application', 'such', 'a', 'chatbots', 'and', 'language', 'translation']\n"
     ]
    }
   ],
   "source": [
    "word_stem=word_tokens.stem()\n",
    "word_lem=word_tokens.lemmatize()\n",
    "print(word_stem)\n",
    "print()\n",
    "print(word_lem)"
   ]
  },
  {
   "cell_type": "code",
   "execution_count": 20,
   "id": "bd1012b3-c779-43f6-ac19-9d52a74873fc",
   "metadata": {},
   "outputs": [
    {
     "name": "stderr",
     "output_type": "stream",
     "text": [
      "[nltk_data] Downloading package stopwords to C:\\Users\\Suraj\n",
      "[nltk_data]     Senapati\\AppData\\Roaming\\nltk_data...\n",
      "[nltk_data]   Unzipping corpora\\stopwords.zip.\n"
     ]
    },
    {
     "data": {
      "text/plain": [
       "True"
      ]
     },
     "execution_count": 20,
     "metadata": {},
     "output_type": "execute_result"
    }
   ],
   "source": [
    "nltk.download('stopwords')"
   ]
  },
  {
   "cell_type": "code",
   "execution_count": 7,
   "id": "29a69e8c-68f9-4bc7-b3af-ac5e6f8e072b",
   "metadata": {},
   "outputs": [
    {
     "name": "stdout",
     "output_type": "stream",
     "text": [
      "['Natural', 'Language', 'Processing', 'enables', 'machines', 'understand', 'process', 'human', 'languages.It', 'fascinating', 'field', 'numerous', 'applications', 'chatbots', 'language', 'translation']\n"
     ]
    }
   ],
   "source": [
    "stops=stopwords.words('English')\n",
    "flow=[word for word in word_tokens if word not in stops]\n",
    "print(flow)"
   ]
  },
  {
   "cell_type": "code",
   "execution_count": null,
   "id": "b2522070-26af-4c5d-8637-99c2191ff112",
   "metadata": {},
   "outputs": [],
   "source": []
  }
 ],
 "metadata": {
  "kernelspec": {
   "display_name": "Python 3 (ipykernel)",
   "language": "python",
   "name": "python3"
  },
  "language_info": {
   "codemirror_mode": {
    "name": "ipython",
    "version": 3
   },
   "file_extension": ".py",
   "mimetype": "text/x-python",
   "name": "python",
   "nbconvert_exporter": "python",
   "pygments_lexer": "ipython3",
   "version": "3.13.1"
  }
 },
 "nbformat": 4,
 "nbformat_minor": 5
}
