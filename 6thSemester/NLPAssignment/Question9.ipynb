{
 "cells": [
  {
   "cell_type": "code",
   "execution_count": 8,
   "id": "be9a883b-d4b9-4e11-872f-b7c5f666d323",
   "metadata": {},
   "outputs": [
    {
     "name": "stdout",
     "output_type": "stream",
     "text": [
      "Sentiment(classification='pos', p_pos=1.0, p_neg=1.6377648866961828e-24)\n",
      "Sentiment(classification='pos', p_pos=0.9999862399491083, p_neg=1.3760050889503307e-05)\n",
      "Sentiment(classification='pos', p_pos=0.9985069369384093, p_neg=0.0014930630615900278)\n",
      "Sentiment(classification='pos', p_pos=0.9990534571569376, p_neg=0.0009465428430668964)\n",
      "Sentiment(classification='pos', p_pos=0.942844887554653, p_neg=0.057155112445345005)\n",
      "Sentiment(classification='pos', p_pos=0.992197754219061, p_neg=0.007802245780941175)\n",
      "Sentiment(classification='pos', p_pos=0.9999992472549765, p_neg=7.527450417488676e-07)\n",
      "Sentiment(classification='pos', p_pos=0.9999999999988968, p_neg=1.1080233358979356e-12)\n",
      "Sentiment(classification='pos', p_pos=0.9082559847710644, p_neg=0.09174401522893444)\n",
      "Sentiment(classification='pos', p_pos=0.962424448041555, p_neg=0.0375755519584474)\n",
      "Sentiment(classification='pos', p_pos=0.99996981203041, p_neg=3.018796960046266e-05)\n",
      "Sentiment(classification='pos', p_pos=0.6473189248463977, p_neg=0.35268107515360264)\n",
      "Sentiment(classification='pos', p_pos=0.9005720645953819, p_neg=0.09942793540462082)\n"
     ]
    }
   ],
   "source": [
    "from textblob import TextBlob\n",
    "import requests\n",
    "from bs4 import BeautifulSoup\n",
    "from textblob.sentiments import NaiveBayesAnalyzer\n",
    "url=\"https://www.thehindu.com/incoming\"\n",
    "res=requests.get(url)\n",
    "textss=res.text\n",
    "soup=BeautifulSoup(textss,'html.parser')\n",
    "cont=soup.get_text()\n",
    "blob=TextBlob(cont, analyzer=NaiveBayesAnalyzer())\n",
    "sen=blob.sentences\n",
    "print(blob.sentiment)\n",
    "for s in sen:\n",
    "    print(s.sentiment)"
   ]
  },
  {
   "cell_type": "code",
   "execution_count": null,
   "id": "63342c38-b76e-4b16-922a-0826a77d34b4",
   "metadata": {},
   "outputs": [],
   "source": []
  }
 ],
 "metadata": {
  "kernelspec": {
   "display_name": "Python 3 (ipykernel)",
   "language": "python",
   "name": "python3"
  },
  "language_info": {
   "codemirror_mode": {
    "name": "ipython",
    "version": 3
   },
   "file_extension": ".py",
   "mimetype": "text/x-python",
   "name": "python",
   "nbconvert_exporter": "python",
   "pygments_lexer": "ipython3",
   "version": "3.12.3"
  }
 },
 "nbformat": 4,
 "nbformat_minor": 5
}
