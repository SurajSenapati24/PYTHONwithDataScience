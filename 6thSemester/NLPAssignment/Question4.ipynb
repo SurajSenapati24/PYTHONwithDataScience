{
 "cells": [
  {
   "cell_type": "code",
   "execution_count": 5,
   "id": "b9ea59c2-478f-4ba9-9037-d932a3a4f6a8",
   "metadata": {},
   "outputs": [
    {
     "name": "stdout",
     "output_type": "stream",
     "text": [
      "This is a textblob\n"
     ]
    }
   ],
   "source": [
    "#Answer 4\n",
    "from textblob import TextBlob\n",
    "blob=TextBlob(\"This is a textblob\")\n",
    "print(blob)"
   ]
  },
  {
   "cell_type": "code",
   "execution_count": null,
   "id": "00e73ed8-2c13-46ca-909a-cfe412c280c1",
   "metadata": {},
   "outputs": [],
   "source": []
  },
  {
   "cell_type": "code",
   "execution_count": null,
   "id": "b5232780-5b58-4d5f-9943-b917412eaeb3",
   "metadata": {},
   "outputs": [],
   "source": []
  }
 ],
 "metadata": {
  "kernelspec": {
   "display_name": "Python 3 (ipykernel)",
   "language": "python",
   "name": "python3"
  },
  "language_info": {
   "codemirror_mode": {
    "name": "ipython",
    "version": 3
   },
   "file_extension": ".py",
   "mimetype": "text/x-python",
   "name": "python",
   "nbconvert_exporter": "python",
   "pygments_lexer": "ipython3",
   "version": "3.13.1"
  }
 },
 "nbformat": 4,
 "nbformat_minor": 5
}
