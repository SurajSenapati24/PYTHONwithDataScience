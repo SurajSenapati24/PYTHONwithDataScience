{
 "cells": [
  {
   "cell_type": "code",
   "execution_count": 5,
   "id": "677e0adc-4553-4eff-8f41-6896565f73a3",
   "metadata": {},
   "outputs": [
    {
     "name": "stdout",
     "output_type": "stream",
     "text": [
      "Sentiment(polarity=0.17498647186147182, subjectivity=0.395856524427953)\n",
      "Sentiment(polarity=0.25757575757575757, subjectivity=0.6181818181818182)\n",
      "Sentiment(polarity=0.09375, subjectivity=0.26041666666666663)\n",
      "Sentiment(polarity=0.125, subjectivity=0.4583333333333333)\n",
      "Sentiment(polarity=0.375, subjectivity=0.2)\n",
      "Sentiment(polarity=0.41818181818181815, subjectivity=0.5272727272727273)\n",
      "Sentiment(polarity=0.18106060606060603, subjectivity=0.347979797979798)\n",
      "Sentiment(polarity=0.1905942542306179, subjectivity=0.423573396300669)\n",
      "Sentiment(polarity=0.28571428571428575, subjectivity=0.6238095238095238)\n",
      "Sentiment(polarity=0.05, subjectivity=0.2625)\n",
      "Sentiment(polarity=0.0, subjectivity=0.1)\n",
      "Sentiment(polarity=0.0, subjectivity=0.0)\n",
      "Sentiment(polarity=0.10408163265306121, subjectivity=0.3163265306122449)\n"
     ]
    }
   ],
   "source": [
    "from textblob import TextBlob\n",
    "import requests\n",
    "from bs4 import BeautifulSoup\n",
    "url=\"https://www.thehindu.com/incoming\"\n",
    "res=requests.get(url)\n",
    "textss=res.text\n",
    "soup=BeautifulSoup(textss,'html.parser')\n",
    "cont=soup.get_text()\n",
    "blob=TextBlob(cont)\n",
    "print(blob.sentiment)\n",
    "sen=blob.sentences\n",
    "for s in sen:\n",
    "    print(s.sentiment)"
   ]
  },
  {
   "cell_type": "code",
   "execution_count": null,
   "id": "b4b7a388-1d1c-413b-860e-4c64dceb5ec7",
   "metadata": {},
   "outputs": [],
   "source": []
  }
 ],
 "metadata": {
  "kernelspec": {
   "display_name": "Python 3 (ipykernel)",
   "language": "python",
   "name": "python3"
  },
  "language_info": {
   "codemirror_mode": {
    "name": "ipython",
    "version": 3
   },
   "file_extension": ".py",
   "mimetype": "text/x-python",
   "name": "python",
   "nbconvert_exporter": "python",
   "pygments_lexer": "ipython3",
   "version": "3.12.7"
  }
 },
 "nbformat": 4,
 "nbformat_minor": 5
}
