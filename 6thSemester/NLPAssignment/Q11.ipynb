{
 "cells": [
  {
   "cell_type": "code",
   "execution_count": 1,
   "id": "3333eff9-62f3-4d92-9e8b-9400c75e9dd2",
   "metadata": {},
   "outputs": [
    {
     "name": "stdin",
     "output_type": "stream",
     "text": [
      "Enter a text:  Hi I am Suraj\n"
     ]
    },
    {
     "ename": "AttributeError",
     "evalue": "'TextBlob' object has no attribute 'translate'",
     "output_type": "error",
     "traceback": [
      "\u001b[1;31m---------------------------------------------------------------------------\u001b[0m",
      "\u001b[1;31mAttributeError\u001b[0m                            Traceback (most recent call last)",
      "Cell \u001b[1;32mIn[1], line 4\u001b[0m\n\u001b[0;32m      2\u001b[0m inp\u001b[38;5;241m=\u001b[39m\u001b[38;5;28minput\u001b[39m(\u001b[38;5;124m\"\u001b[39m\u001b[38;5;124mEnter a text: \u001b[39m\u001b[38;5;124m\"\u001b[39m)\n\u001b[0;32m      3\u001b[0m b\u001b[38;5;241m=\u001b[39mTextBlob(inp)\n\u001b[1;32m----> 4\u001b[0m fre\u001b[38;5;241m=\u001b[39mb\u001b[38;5;241m.\u001b[39mtranslate(to\u001b[38;5;241m=\u001b[39m\u001b[38;5;124m'\u001b[39m\u001b[38;5;124mfr\u001b[39m\u001b[38;5;124m'\u001b[39m)\n",
      "\u001b[1;31mAttributeError\u001b[0m: 'TextBlob' object has no attribute 'translate'"
     ]
    }
   ],
   "source": [
    "from textblob import TextBlob\n",
    "inp=input(\"Enter a text: \")\n",
    "b=TextBlob(inp)\n",
    "fre=b.translate(to='fr')\n",
    "s=b.translate(to='es')\n",
    "ger=b.translate(to='de')"
   ]
  },
  {
   "cell_type": "code",
   "execution_count": 12,
   "id": "d8f08172-40fc-4aa7-8090-f6ae0935eb53",
   "metadata": {},
   "outputs": [
    {
     "name": "stdin",
     "output_type": "stream",
     "text": [
      "Enter a paragraph:  This ebook is for the use of anyone anywhere in the United States and most other parts of the world at no cost and with almost no restrictions whatsoever. You may copy it, give it away or re-use it under the terms of the Project Gutenberg License included with this ebook or online at www.gutenberg.org. If you are not located in the United States, you will have to check the laws of the country where you are located before using this eBook.\n"
     ]
    },
    {
     "name": "stdout",
     "output_type": "stream",
     "text": [
      "\"This ebook is for the use of anyone anywhere in the United States and most other parts of the world at no cost and with almost no restrictions whatsoever.\" -> Positive, Objective\n",
      "\"You may copy it, give it away or re-use it under the terms of the Project Gutenberg License included with this ebook or online at www.gutenberg.org.\" -> Neutral, Objective\n",
      "\"If you are not located in the United States, you will have to check the laws of the country where you are located before using this eBook.\" -> Neutral, Objective\n"
     ]
    }
   ],
   "source": [
    "from textblob import TextBlob\n",
    "inp=input(\"Enter a paragraph: \")\n",
    "blob=TextBlob(inp)\n",
    "sen=blob.sentences\n",
    "for s in sen:\n",
    "    polarity=s.sentiment.polarity\n",
    "    subjectivity=s.sentiment.subjectivity\n",
    "    if polarity > 0:\n",
    "        sentiment = \"Positive\"\n",
    "    elif polarity < 0:\n",
    "        sentiment = \"Negative\"\n",
    "    else:\n",
    "        sentiment = \"Neutral\"\n",
    "\n",
    "    # Determine objectivity/subjectivity\n",
    "    if subjectivity >= 0.5:\n",
    "        opinion = \"Subjective\"\n",
    "    else:\n",
    "        opinion = \"Objective\"\n",
    "\n",
    "    print(f\"\\\"{s}\\\" -> {sentiment}, {opinion}\")"
   ]
  },
  {
   "cell_type": "code",
   "execution_count": 14,
   "id": "40ed70de-e9e3-4c49-94d0-4dc41a7f80cc",
   "metadata": {},
   "outputs": [
    {
     "name": "stdout",
     "output_type": "stream",
     "text": [
      "If: IN\n",
      "you: PRP\n",
      "are: VBP\n",
      "not: RB\n",
      "located: VBN\n",
      "in: IN\n",
      "the: DT\n",
      "United: NNP\n",
      "States: NNPS\n",
      "you: PRP\n",
      "will: MD\n",
      "have: VB\n",
      "to: TO\n",
      "check: VB\n",
      "the: DT\n",
      "laws: NNS\n",
      "of: IN\n",
      "the: DT\n",
      "country: NN\n",
      "where: WRB\n",
      "you: PRP\n",
      "are: VBP\n",
      "located: VBN\n",
      "before: IN\n",
      "using: VBG\n",
      "this: DT\n",
      "eBook: NN\n"
     ]
    }
   ],
   "source": [
    "def pos_tag_sentence(sentence):\n",
    "    blob = TextBlob(sentence)\n",
    "    for word, tag in blob.tags:\n",
    "        print(f\"{word}: {tag}\")\n",
    "pos_tag_sentence(\"If you are not located in the United States, you will have to check the laws of the country where you are located before using this eBook.\")"
   ]
  },
  {
   "cell_type": "code",
   "execution_count": 20,
   "id": "1ea84705-0d76-402c-a723-53b425120be6",
   "metadata": {},
   "outputs": [
    {
     "name": "stdout",
     "output_type": "stream",
     "text": [
      "Correct spelling suggestion: a\n",
      "Top 3 suggestions: ['a', 'as', 'at']\n"
     ]
    }
   ],
   "source": [
    "from textblob import Word\n",
    "def spell_check(word):\n",
    "    blob = Word(word)\n",
    "    correct_word = blob.correct()\n",
    "    print(\"Correct spelling suggestion:\", correct_word)\n",
    "    suggestions = blob.spellcheck()\n",
    "    print(\"Top 3 suggestions:\", [s[0] for s in suggestions[:3]])\n",
    "spell_check(\"ap\")\n"
   ]
  },
  {
   "cell_type": "code",
   "execution_count": null,
   "id": "9e1b4b0c-27a3-40e9-bb48-def1691938d8",
   "metadata": {},
   "outputs": [],
   "source": []
  }
 ],
 "metadata": {
  "kernelspec": {
   "display_name": "Python 3 (ipykernel)",
   "language": "python",
   "name": "python3"
  },
  "language_info": {
   "codemirror_mode": {
    "name": "ipython",
    "version": 3
   },
   "file_extension": ".py",
   "mimetype": "text/x-python",
   "name": "python",
   "nbconvert_exporter": "python",
   "pygments_lexer": "ipython3",
   "version": "3.12.3"
  }
 },
 "nbformat": 4,
 "nbformat_minor": 5
}
