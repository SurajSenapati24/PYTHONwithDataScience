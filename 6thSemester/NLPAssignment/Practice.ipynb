{
 "cells": [
  {
   "cell_type": "code",
   "execution_count": 1,
   "id": "79950334-51c9-43fe-af2f-8295aa3497dd",
   "metadata": {},
   "outputs": [],
   "source": [
    "import textblob\n",
    "from textblob import TextBlob\n",
    "import nltk\n",
    "from nltk.corpus import stopwords"
   ]
  },
  {
   "cell_type": "code",
   "execution_count": 2,
   "id": "08a8266f-4746-4553-a2b8-f84d108d2f21",
   "metadata": {},
   "outputs": [],
   "source": [
    "blob=TextBlob(\"Today is a beautiful day. Tomorrow looks like a bad weather.\")"
   ]
  },
  {
   "cell_type": "code",
   "execution_count": 4,
   "id": "39483c07-904f-4337-b32e-4c15c8c5da87",
   "metadata": {},
   "outputs": [
    {
     "name": "stdout",
     "output_type": "stream",
     "text": [
      "Words:  ['Today', 'is', 'a', 'beautiful', 'day', 'Tomorrow', 'looks', 'like', 'a', 'bad', 'weather']\n",
      "Sentences:  [Sentence(\"Today is a beautiful day.\"), Sentence(\"Tomorrow looks like a bad weather.\")]\n"
     ]
    }
   ],
   "source": [
    "#Tokenization\n",
    "word_tokens=blob.words\n",
    "sentence_tokens=blob.sentences\n",
    "print(\"Words: \", word_tokens)\n",
    "print(\"Sentences: \", sentence_tokens)"
   ]
  },
  {
   "cell_type": "code",
   "execution_count": 7,
   "id": "8dac383e-9187-415b-a048-40e11417ba4d",
   "metadata": {},
   "outputs": [
    {
     "name": "stdout",
     "output_type": "stream",
     "text": [
      "[('Today', 'NN'), ('is', 'VBZ'), ('a', 'DT'), ('beautiful', 'JJ'), ('day', 'NN'), ('Tomorrow', 'NNP'), ('looks', 'VBZ'), ('like', 'IN'), ('a', 'DT'), ('bad', 'JJ'), ('weather', 'NN')]\n"
     ]
    },
    {
     "data": {
      "text/plain": [
       "'NN-> Noun,singular or mass, VBZ-> Verb, 3rd person singular present, DT-> Determiner, NNP-> Proper Noun, JJ-> Adjectives, \\nIN->Preposition or subordinating conjuction'"
      ]
     },
     "execution_count": 7,
     "metadata": {},
     "output_type": "execute_result"
    }
   ],
   "source": [
    "#POS tagging\n",
    "pos=blob.tags\n",
    "print(pos)\n",
    "\"\"\"NN-> Noun,singular or mass, VBZ-> Verb, 3rd person singular present, DT-> Determiner, NNP-> Proper Noun, JJ-> Adjectives, \n",
    "IN->Preposition or subordinating conjuction\"\"\""
   ]
  },
  {
   "cell_type": "code",
   "execution_count": 9,
   "id": "df844f54-0f3e-4c61-a32c-d491b61e3cf7",
   "metadata": {},
   "outputs": [
    {
     "name": "stdout",
     "output_type": "stream",
     "text": [
      "['beautiful day', 'tomorrow', 'bad weather']\n"
     ]
    }
   ],
   "source": [
    "#Extracting Noun Phrases\n",
    "noun_p=blob.noun_phrases\n",
    "print(noun_p)"
   ]
  },
  {
   "cell_type": "code",
   "execution_count": 10,
   "id": "aae08f12-51d8-4b57-b4af-18f7d2efc3dd",
   "metadata": {},
   "outputs": [
    {
     "name": "stdout",
     "output_type": "stream",
     "text": [
      "Sentiment(polarity=0.07500000000000007, subjectivity=0.8333333333333333)\n"
     ]
    }
   ],
   "source": [
    "#Sentiment Analysis\n",
    "senti=blob.sentiment\n",
    "print(senti)"
   ]
  },
  {
   "cell_type": "code",
   "execution_count": 13,
   "id": "998bc819-6ecf-4b5d-b46d-ad9a2050ca70",
   "metadata": {},
   "outputs": [
    {
     "name": "stdout",
     "output_type": "stream",
     "text": [
      "Today is a beautiful day.: sentiment:Sentiment(polarity=0.85, subjectivity=1.0)\n",
      "Tomorrow looks like a bad weather.: sentiment:Sentiment(polarity=-0.6999999999999998, subjectivity=0.6666666666666666)\n"
     ]
    }
   ],
   "source": [
    "for sentence in sentence_tokens:\n",
    "    print(f\"{sentence}: sentiment:{sentence.sentiment}\")"
   ]
  },
  {
   "cell_type": "code",
   "execution_count": 15,
   "id": "efaeebac-c943-4632-a084-9e0bb1fe5db3",
   "metadata": {},
   "outputs": [
    {
     "name": "stdout",
     "output_type": "stream",
     "text": [
      "[Sentence(\"Today is a beautiful day.\"), Sentence(\"Tomorrow looks like a bad weather.\")]\n",
      "Sentiment(classification='neg', p_pos=0.47662917962091056, p_neg=0.5233708203790892)\n",
      "Sentiment(polarity=0.85, subjectivity=1.0)\n",
      "Sentiment(polarity=-0.6999999999999998, subjectivity=0.6666666666666666)\n"
     ]
    }
   ],
   "source": [
    "#Sentiment Analysing using NaiceBayesAnalyzer\n",
    "from textblob.sentiments import NaiveBayesAnalyzer\n",
    "text=\"Today is a beautiful day. Tomorrow looks like a bad weather.\"\n",
    "b=TextBlob(text, analyzer=NaiveBayesAnalyzer())\n",
    "sentence_tok=blob.sentences\n",
    "print(sentence_tok)\n",
    "print(b.sentiment)\n",
    "for sentence in sentence_tok:\n",
    "    print(sentence.sentiment)"
   ]
  },
  {
   "cell_type": "code",
   "execution_count": 18,
   "id": "6874a7d1-3535-4681-beff-52ff4e3466e1",
   "metadata": {},
   "outputs": [],
   "source": [
    "#Language detection and translation\n",
    "#print(blob.detect_language())\n",
    "#spanish=blob.translate(to='es')\n",
    "#print(spanish)\n",
    "# These methods won't work as they relied on unofficial google apis"
   ]
  },
  {
   "cell_type": "code",
   "execution_count": 22,
   "id": "8ab8205f-955f-431f-b3e5-9948e3ee7247",
   "metadata": {},
   "outputs": [
    {
     "name": "stdout",
     "output_type": "stream",
     "text": [
      "indices\n",
      "cactus\n"
     ]
    }
   ],
   "source": [
    "#inflection- pluralization and singularization\n",
    "from textblob import Word\n",
    "index=Word(\"index\")\n",
    "print(index.pluralize())\n",
    "word=Word('cacti')\n",
    "print(word.singularize())"
   ]
  },
  {
   "cell_type": "code",
   "execution_count": null,
   "id": "fc089c4b-8320-49d4-93c2-9e6045efad47",
   "metadata": {},
   "outputs": [],
   "source": [
    "#Spell checking and correction\n"
   ]
  },
  {
   "cell_type": "code",
   "execution_count": 32,
   "id": "c08e2de4-6c6f-47dd-b783-767bd98aae7e",
   "metadata": {},
   "outputs": [
    {
     "name": "stdin",
     "output_type": "stream",
     "text": [
      "Enter n:  2\n"
     ]
    },
    {
     "name": "stdout",
     "output_type": "stream",
     "text": [
      "12\n",
      "13\n",
      "14\n",
      "15\n",
      "16\n",
      "17\n",
      "18\n",
      "19\n",
      "23\n",
      "24\n",
      "25\n",
      "26\n",
      "27\n",
      "28\n",
      "29\n",
      "34\n",
      "35\n",
      "36\n",
      "37\n",
      "38\n",
      "39\n",
      "45\n",
      "46\n",
      "47\n",
      "48\n",
      "49\n",
      "56\n",
      "57\n",
      "58\n",
      "59\n",
      "67\n",
      "68\n",
      "69\n",
      "78\n",
      "79\n",
      "89\n"
     ]
    }
   ],
   "source": [
    "def print_increasing(n, current_num=0, last_digit=0):\n",
    "    if n == 0:\n",
    "        print(current_num)\n",
    "        return\n",
    "    for digit in range(last_digit + 1, 10):\n",
    "        print_increasing(n - 1, current_num * 10 + digit, digit)\n",
    "\n",
    "n = int(input('Enter n: '))\n",
    "print_increasing(n)"
   ]
  },
  {
   "cell_type": "code",
   "execution_count": 48,
   "id": "ef5e91c3-7ae2-4a92-808a-34acd084cccf",
   "metadata": {},
   "outputs": [
    {
     "name": "stdout",
     "output_type": "stream",
     "text": [
      "5\n"
     ]
    }
   ],
   "source": [
    "def nth_fibonacci(n):\n",
    "    if n<=1:\n",
    "        return n\n",
    "    return nth_fibonacci(n-1)+nth_fibonacci(n-2)\n",
    "print(nth_fibonacci(5))"
   ]
  },
  {
   "cell_type": "code",
   "execution_count": 51,
   "id": "0061e7c7-aec4-4ec6-931b-63def779b187",
   "metadata": {},
   "outputs": [
    {
     "name": "stdout",
     "output_type": "stream",
     "text": [
      "9\n"
     ]
    }
   ],
   "source": [
    "def find_largest(arr):\n",
    "    largest=arr[0]\n",
    "    for i in range(1,len(arr)):\n",
    "        if(arr[i]>largest):\n",
    "            largest=arr[i]\n",
    "    return largest\n",
    "\n",
    "l=[1,5,2,9,3]\n",
    "print(find_largest(l))"
   ]
  },
  {
   "cell_type": "code",
   "execution_count": 53,
   "id": "30ce891f-7307-47b7-b913-b6ae33d72b76",
   "metadata": {},
   "outputs": [
    {
     "name": "stdout",
     "output_type": "stream",
     "text": [
      "Are antipodal: True\n"
     ]
    }
   ],
   "source": [
    "import math\n",
    "\n",
    "def are_antipodal(points):\n",
    "    angles = sorted(math.atan2(y, x) for x, y in points)\n",
    "\n",
    "    n = len(angles)\n",
    "    for i in range(n):\n",
    "        target = angles[i] + math.pi\n",
    "        low, high = 0, n - 1\n",
    "\n",
    "        while low <= high:\n",
    "            mid = (low + high) // 2\n",
    "            if abs(angles[mid] - target) < 1e-9:\n",
    "                return True\n",
    "            elif angles[mid] < target:\n",
    "                low = mid + 1\n",
    "            else:\n",
    "                high = mid - 1\n",
    "    return False\n",
    "\n",
    "points = [(1, 0), (-1, 0), (0, 1), (0, -1)]\n",
    "print(f'Are antipodal: {are_antipodal(points)}')"
   ]
  },
  {
   "cell_type": "code",
   "execution_count": 55,
   "id": "bd811825-0ab8-4903-959d-309711d5a0fd",
   "metadata": {},
   "outputs": [
    {
     "name": "stdout",
     "output_type": "stream",
     "text": [
      "Instance species: Instance Species\n",
      "Class species: Class Species\n",
      "Global species: Global Species\n"
     ]
    }
   ],
   "source": [
    "species = \"Global Species\"\n",
    "class Animal:\n",
    "    species = \"Class Species\"\n",
    "    def __init__(self, species):\n",
    "        self.species = species\n",
    "    def display_species(self):\n",
    "        print(\"Instance species:\", self.species)\n",
    "        print(\"Class species:\", Animal.species)\n",
    "        print(\"Global species:\", globals()['species'])\n",
    "a = Animal(\"Instance Species\")\n",
    "a.display_species()"
   ]
  },
  {
   "cell_type": "code",
   "execution_count": 57,
   "id": "e27b6a93-de22-473c-a55a-169763c8bb8e",
   "metadata": {},
   "outputs": [
    {
     "name": "stdout",
     "output_type": "stream",
     "text": [
      "    Celsius (°C)  Kelvin (K)\n",
      "0            -10      263.15\n",
      "1             -5      268.15\n",
      "2              0      273.15\n",
      "3              5      278.15\n",
      "4             10      283.15\n",
      "5             15      288.15\n",
      "6             20      293.15\n",
      "7             25      298.15\n",
      "8             30      303.15\n",
      "9             35      308.15\n",
      "10            40      313.15\n"
     ]
    },
    {
     "data": {
      "image/png": "[encoded data removed]",
      "text/plain": [
       "<Figure size 640x480 with 1 Axes>"
      ]
     },
     "metadata": {},
     "output_type": "display_data"
    }
   ],
   "source": [
    "import pandas as pd\n",
    "import matplotlib.pyplot as plt\n",
    "celsius_to_kelvin = lambda c: c + 273.15\n",
    "celsius_values = list(range(-10, 41, 5))\n",
    "kelvin_values = [celsius_to_kelvin(c) for c in celsius_values]\n",
    "df = pd.DataFrame({\"Celsius (°C)\": celsius_values, \"Kelvin (K)\": kelvin_values})\n",
    "print(df)\n",
    "plt.plot(df[\"Celsius (°C)\"], df[\"Kelvin (K)\"], marker=\"o\", linestyle=\"-\", color=\"b\")\n",
    "plt.xlabel(\"Celsius (°C)\")\n",
    "plt.ylabel(\"Kelvin (K)\")\n",
    "plt.title(\"Celsius to Kelvin Conversion\")\n",
    "plt.grid(True)\n",
    "plt.show()"
   ]
  },
  {
   "cell_type": "code",
   "execution_count": null,
   "id": "304c0358-66e4-4f80-acc5-1c98df476ace",
   "metadata": {},
   "outputs": [],
   "source": []
  }
 ],
 "metadata": {
  "kernelspec": {
   "display_name": "Python 3 (ipykernel)",
   "language": "python",
   "name": "python3"
  },
  "language_info": {
   "codemirror_mode": {
    "name": "ipython",
    "version": 3
   },
   "file_extension": ".py",
   "mimetype": "text/x-python",
   "name": "python",
   "nbconvert_exporter": "python",
   "pygments_lexer": "ipython3",
   "version": "3.12.3"
  }
 },
 "nbformat": 4,
 "nbformat_minor": 5
}
