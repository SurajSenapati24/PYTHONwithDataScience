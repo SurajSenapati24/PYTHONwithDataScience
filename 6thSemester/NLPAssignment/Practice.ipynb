{
 "cells": [
  {
   "cell_type": "code",
   "execution_count": 1,
   "id": "79950334-51c9-43fe-af2f-8295aa3497dd",
   "metadata": {},
   "outputs": [],
   "source": [
    "import textblob\n",
    "from textblob import TextBlob\n",
    "import nltk\n",
    "from nltk.corpus import stopwords"
   ]
  },
  {
   "cell_type": "code",
   "execution_count": 2,
   "id": "08a8266f-4746-4553-a2b8-f84d108d2f21",
   "metadata": {},
   "outputs": [],
   "source": [
    "blob=TextBlob(\"Today is a beautiful day. Tomorrow looks like a bad weather.\")"
   ]
  },
  {
   "cell_type": "code",
   "execution_count": 4,
   "id": "39483c07-904f-4337-b32e-4c15c8c5da87",
   "metadata": {},
   "outputs": [
    {
     "name": "stdout",
     "output_type": "stream",
     "text": [
      "Words:  ['Today', 'is', 'a', 'beautiful', 'day', 'Tomorrow', 'looks', 'like', 'a', 'bad', 'weather']\n",
      "Sentences:  [Sentence(\"Today is a beautiful day.\"), Sentence(\"Tomorrow looks like a bad weather.\")]\n"
     ]
    }
   ],
   "source": [
    "#Tokenization\n",
    "word_tokens=blob.words\n",
    "sentence_tokens=blob.sentences\n",
    "print(\"Words: \", word_tokens)\n",
    "print(\"Sentences: \", sentence_tokens)"
   ]
  },
  {
   "cell_type": "code",
   "execution_count": 7,
   "id": "8dac383e-9187-415b-a048-40e11417ba4d",
   "metadata": {},
   "outputs": [
    {
     "name": "stdout",
     "output_type": "stream",
     "text": [
      "[('Today', 'NN'), ('is', 'VBZ'), ('a', 'DT'), ('beautiful', 'JJ'), ('day', 'NN'), ('Tomorrow', 'NNP'), ('looks', 'VBZ'), ('like', 'IN'), ('a', 'DT'), ('bad', 'JJ'), ('weather', 'NN')]\n"
     ]
    },
    {
     "data": {
      "text/plain": [
       "'NN-> Noun,singular or mass, VBZ-> Verb, 3rd person singular present, DT-> Determiner, NNP-> Proper Noun, JJ-> Adjectives, \\nIN->Preposition or subordinating conjuction'"
      ]
     },
     "execution_count": 7,
     "metadata": {},
     "output_type": "execute_result"
    }
   ],
   "source": [
    "#POS tagging\n",
    "pos=blob.tags\n",
    "print(pos)\n",
    "\"\"\"NN-> Noun,singular or mass, VBZ-> Verb, 3rd person singular present, DT-> Determiner, NNP-> Proper Noun, JJ-> Adjectives, \n",
    "IN->Preposition or subordinating conjuction\"\"\""
   ]
  },
  {
   "cell_type": "code",
   "execution_count": 9,
   "id": "df844f54-0f3e-4c61-a32c-d491b61e3cf7",
   "metadata": {},
   "outputs": [
    {
     "name": "stdout",
     "output_type": "stream",
     "text": [
      "['beautiful day', 'tomorrow', 'bad weather']\n"
     ]
    }
   ],
   "source": [
    "#Extracting Noun Phrases\n",
    "noun_p=blob.noun_phrases\n",
    "print(noun_p)"
   ]
  },
  {
   "cell_type": "code",
   "execution_count": 10,
   "id": "aae08f12-51d8-4b57-b4af-18f7d2efc3dd",
   "metadata": {},
   "outputs": [
    {
     "name": "stdout",
     "output_type": "stream",
     "text": [
      "Sentiment(polarity=0.07500000000000007, subjectivity=0.8333333333333333)\n"
     ]
    }
   ],
   "source": [
    "#Sentiment Analysis\n",
    "senti=blob.sentiment\n",
    "print(senti)"
   ]
  },
  {
   "cell_type": "code",
   "execution_count": 13,
   "id": "998bc819-6ecf-4b5d-b46d-ad9a2050ca70",
   "metadata": {},
   "outputs": [
    {
     "name": "stdout",
     "output_type": "stream",
     "text": [
      "Today is a beautiful day.: sentiment:Sentiment(polarity=0.85, subjectivity=1.0)\n",
      "Tomorrow looks like a bad weather.: sentiment:Sentiment(polarity=-0.6999999999999998, subjectivity=0.6666666666666666)\n"
     ]
    }
   ],
   "source": [
    "for sentence in sentence_tokens:\n",
    "    print(f\"{sentence}: sentiment:{sentence.sentiment}\")"
   ]
  },
  {
   "cell_type": "code",
   "execution_count": 15,
   "id": "efaeebac-c943-4632-a084-9e0bb1fe5db3",
   "metadata": {},
   "outputs": [
    {
     "name": "stdout",
     "output_type": "stream",
     "text": [
      "[Sentence(\"Today is a beautiful day.\"), Sentence(\"Tomorrow looks like a bad weather.\")]\n",
      "Sentiment(classification='neg', p_pos=0.47662917962091056, p_neg=0.5233708203790892)\n",
      "Sentiment(polarity=0.85, subjectivity=1.0)\n",
      "Sentiment(polarity=-0.6999999999999998, subjectivity=0.6666666666666666)\n"
     ]
    }
   ],
   "source": [
    "#Sentiment Analysing using NaiceBayesAnalyzer\n",
    "from textblob.sentiments import NaiveBayesAnalyzer\n",
    "text=\"Today is a beautiful day. Tomorrow looks like a bad weather.\"\n",
    "b=TextBlob(text, analyzer=NaiveBayesAnalyzer())\n",
    "sentence_tok=blob.sentences\n",
    "print(sentence_tok)\n",
    "print(b.sentiment)\n",
    "for sentence in sentence_tok:\n",
    "    print(sentence.sentiment)"
   ]
  },
  {
   "cell_type": "code",
   "execution_count": 18,
   "id": "6874a7d1-3535-4681-beff-52ff4e3466e1",
   "metadata": {},
   "outputs": [],
   "source": [
    "#Language detection and translation\n",
    "#print(blob.detect_language())\n",
    "#spanish=blob.translate(to='es')\n",
    "#print(spanish)\n",
    "# These methods won't work as they relied on unofficial google apis"
   ]
  },
  {
   "cell_type": "code",
   "execution_count": 22,
   "id": "8ab8205f-955f-431f-b3e5-9948e3ee7247",
   "metadata": {},
   "outputs": [
    {
     "name": "stdout",
     "output_type": "stream",
     "text": [
      "indices\n",
      "cactus\n"
     ]
    }
   ],
   "source": [
    "#inflection- pluralization and singularization\n",
    "from textblob import Word\n",
    "index=Word(\"index\")\n",
    "print(index.pluralize())\n",
    "word=Word('cacti')\n",
    "print(word.singularize())"
   ]
  },
  {
   "cell_type": "code",
   "execution_count": null,
   "id": "fc089c4b-8320-49d4-93c2-9e6045efad47",
   "metadata": {},
   "outputs": [],
   "source": [
    "#Spell checking and correction\n"
   ]
  },
  {
   "cell_type": "code",
   "execution_count": null,
   "id": "c08e2de4-6c6f-47dd-b783-767bd98aae7e",
   "metadata": {},
   "outputs": [],
   "source": []
  }
 ],
 "metadata": {
  "kernelspec": {
   "display_name": "Python 3 (ipykernel)",
   "language": "python",
   "name": "python3"
  },
  "language_info": {
   "codemirror_mode": {
    "name": "ipython",
    "version": 3
   },
   "file_extension": ".py",
   "mimetype": "text/x-python",
   "name": "python",
   "nbconvert_exporter": "python",
   "pygments_lexer": "ipython3",
   "version": "3.12.7"
  }
 },
 "nbformat": 4,
 "nbformat_minor": 5
}
